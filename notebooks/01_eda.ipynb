{
 "cells": [
  {
   "cell_type": "markdown",
   "id": "f6bbc827",
   "metadata": {},
   "source": [
    "# Exploratory Data Analysis (EDA)\n",
    "\n",
    "Explore and analyze data from challenge"
   ]
  },
  {
   "cell_type": "markdown",
   "id": "dae7da47",
   "metadata": {},
   "source": [
    "# 1. Dependencies"
   ]
  },
  {
   "cell_type": "code",
   "execution_count": null,
   "id": "2845d61d",
   "metadata": {},
   "outputs": [],
   "source": [
    "import sys\n",
    "sys.path.append('../src')  # So Python can find config.py\n",
    "\n",
    "import pandas as pd\n",
    "\n",
    "from config import RAW_DATA_DIR"
   ]
  },
  {
   "cell_type": "markdown",
   "id": "d929d201",
   "metadata": {},
   "source": [
    "# 2. Configuration"
   ]
  },
  {
   "cell_type": "code",
   "execution_count": null,
   "id": "a57c7998",
   "metadata": {},
   "outputs": [],
   "source": [
    "# Define global variables"
   ]
  },
  {
   "cell_type": "markdown",
   "id": "9251d219",
   "metadata": {},
   "source": [
    "# 3. Read data"
   ]
  },
  {
   "cell_type": "code",
   "execution_count": null,
   "id": "e48d0ccc",
   "metadata": {},
   "outputs": [],
   "source": [
    "df_train = pd.read_csv(RAW_DATA_DIR / 'train.csv')\n",
    "df_test = pd.read_csv(RAW_DATA_DIR / 'test.csv')\n",
    "\n",
    "print(f\"Train shape: {df_train.shape}\")\n",
    "print(f\"Test shape: {df_test.shape}\")"
   ]
  }
 ],
 "metadata": {
  "kernelspec": {
   "display_name": ".venv",
   "language": "python",
   "name": "python3"
  },
  "language_info": {
   "codemirror_mode": {
    "name": "ipython",
    "version": 3
   },
   "file_extension": ".py",
   "mimetype": "text/x-python",
   "name": "python",
   "nbconvert_exporter": "python",
   "pygments_lexer": "ipython3",
   "version": "3.10.2"
  }
 },
 "nbformat": 4,
 "nbformat_minor": 5
}
