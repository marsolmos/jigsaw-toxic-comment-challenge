{
 "cells": [
  {
   "cell_type": "markdown",
   "id": "ed9b92ab",
   "metadata": {},
   "source": [
    "# Baseline approach: TF-IDF\n",
    "As a first approach, we will use TF-IDF as the classification model. Final results obtained against validation set:\n",
    "\n",
    "- toxic: ROC AUC = 0.8261\n",
    "- severe_toxic: ROC AUC = 0.6264\n",
    "- obscene: ROC AUC = 0.8336\n",
    "- threat: ROC AUC = 0.6214\n",
    "- insult: ROC AUC = 0.7721\n",
    "- identity_hate: ROC AUC = 0.6237"
   ]
  },
  {
   "cell_type": "markdown",
   "id": "8c028de2",
   "metadata": {},
   "source": [
    "# 1. Dependencies"
   ]
  },
  {
   "cell_type": "code",
   "execution_count": null,
   "id": "50d2273c",
   "metadata": {},
   "outputs": [],
   "source": [
    "import joblib\n",
    "import pandas as pd\n",
    "\n",
    "from sklearn.model_selection import train_test_split\n",
    "from sklearn.feature_extraction.text import TfidfVectorizer\n",
    "from sklearn.linear_model import LogisticRegression\n",
    "from sklearn.multiclass import OneVsRestClassifier\n",
    "from sklearn.metrics import classification_report, roc_auc_score\n",
    "\n",
    "from config import RAW_DATA_DIR, MODEL_BASE_PATH, LABELS, RANDOM_STATE"
   ]
  },
  {
   "cell_type": "markdown",
   "id": "9f4b9162",
   "metadata": {},
   "source": [
    "# 2. Configuration"
   ]
  },
  {
   "cell_type": "code",
   "execution_count": null,
   "id": "ac020c64",
   "metadata": {},
   "outputs": [],
   "source": [
    "# Add any configurations or utility functions here\n",
    "TEST_SIZE = 0.2              # Proportion of data to use for validation\n",
    "MAX_FEATURES = 10000         # Maximum number of features for TF-IDF\n",
    "C = 4                        # Regularization strength for Logistic Regression\n",
    "SOLVER = 'liblinear'         # Solver for Logistic Regression\n",
    "MODEL_ID = 'baseline_tfidf'  # Identifier for the model"
   ]
  },
  {
   "cell_type": "markdown",
   "id": "7b29e030",
   "metadata": {},
   "source": [
    "# 3. Read data"
   ]
  },
  {
   "cell_type": "code",
   "execution_count": null,
   "id": "dc6c592e",
   "metadata": {},
   "outputs": [],
   "source": [
    "# Load dataset\n",
    "df = pd.read_csv(RAW_DATA_DIR / 'train.csv')\n",
    "\n",
    "# Display basic info\n",
    "print(\"Dataset shape:\", df.shape)\n",
    "print(\"Columns:\", df.columns.tolist())"
   ]
  },
  {
   "cell_type": "markdown",
   "id": "be511868",
   "metadata": {},
   "source": [
    "# 4. Preprocess data"
   ]
  },
  {
   "cell_type": "code",
   "execution_count": null,
   "id": "ae38dfd1",
   "metadata": {},
   "outputs": [],
   "source": [
    "# Ensure that all columns are loaded with the correct data types\n",
    "str_cols = ['id', 'comment_text']\n",
    "for col in LABELS:\n",
    "    if col in df.columns:\n",
    "        df[col] = df[col].astype(int)\n",
    "for col in str_cols:\n",
    "    if col in df.columns:\n",
    "        df[col] = df[col].astype(str)"
   ]
  },
  {
   "cell_type": "code",
   "execution_count": null,
   "id": "08b031d8",
   "metadata": {},
   "outputs": [],
   "source": [
    "# Define features and labels\n",
    "X = df['comment_text']\n",
    "y = df[LABELS]\n",
    "\n",
    "# Train/validation split\n",
    "X_train, X_val, y_train, y_val = train_test_split(X, y, test_size=TEST_SIZE, random_state=RANDOM_STATE)"
   ]
  },
  {
   "cell_type": "markdown",
   "id": "2f4e56bb",
   "metadata": {},
   "source": [
    "# 5. Build pipeline"
   ]
  },
  {
   "cell_type": "code",
   "execution_count": null,
   "id": "3265f380",
   "metadata": {},
   "outputs": [],
   "source": [
    "# Define TF-IDF Vectorizer\n",
    "vectorizer = TfidfVectorizer(max_features=MAX_FEATURES, stop_words='english', ngram_range=(1, 2))\n",
    "\n",
    "# Fit and transform the training data, transform the validation data\n",
    "X_train_vec = vectorizer.fit_transform(X_train)\n",
    "X_val_vec = vectorizer.transform(X_val)\n",
    "\n",
    "# One-vs-Rest Logistic Regression\n",
    "clf = OneVsRestClassifier(LogisticRegression(C=C, solver=SOLVER))\n",
    "clf.fit(X_train_vec, y_train)"
   ]
  },
  {
   "cell_type": "markdown",
   "id": "ca066a8a",
   "metadata": {},
   "source": [
    "# 6. Evaluate model"
   ]
  },
  {
   "cell_type": "code",
   "execution_count": null,
   "id": "f634f4e7",
   "metadata": {},
   "outputs": [],
   "source": [
    "y_pred = clf.predict(X_val_vec)\n",
    "\n",
    "# Classification report per label\n",
    "for i, label in enumerate(LABELS):\n",
    "    print(f\"\\n=== {label.upper()} ===\")\n",
    "    print(classification_report(y_val[label], y_pred[:, i]))\n",
    "\n",
    "# ROC AUC per label\n",
    "for i, label in enumerate(LABELS):\n",
    "    score = roc_auc_score(y_val[label], y_pred[:, i])\n",
    "    print(f\"{label}: ROC AUC = {score:.4f}\")"
   ]
  },
  {
   "cell_type": "markdown",
   "id": "691638b7",
   "metadata": {},
   "source": [
    "# 7. Save model and vectorizer"
   ]
  },
  {
   "cell_type": "code",
   "execution_count": null,
   "id": "ef15e9b5",
   "metadata": {},
   "outputs": [],
   "source": [
    "# Save model and vectorizer\n",
    "if not MODEL_BASE_PATH.exists():\n",
    "    MODEL_BASE_PATH.mkdir(parents=True)\n",
    "if not (MODEL_BASE_PATH / MODEL_ID).exists():\n",
    "    (MODEL_BASE_PATH / MODEL_ID).mkdir(parents=True)\n",
    "\n",
    "joblib.dump(clf, MODEL_BASE_PATH / MODEL_ID / 'model.pkl')\n",
    "joblib.dump(vectorizer, MODEL_BASE_PATH / MODEL_ID / 'vectorizer.pkl')"
   ]
  }
 ],
 "metadata": {
  "kernelspec": {
   "display_name": ".venv",
   "language": "python",
   "name": "python3"
  },
  "language_info": {
   "codemirror_mode": {
    "name": "ipython",
    "version": 3
   },
   "file_extension": ".py",
   "mimetype": "text/x-python",
   "name": "python",
   "nbconvert_exporter": "python",
   "pygments_lexer": "ipython3",
   "version": "3.10.2"
  }
 },
 "nbformat": 4,
 "nbformat_minor": 5
}
